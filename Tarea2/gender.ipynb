{
 "cells": [
  {
   "cell_type": "code",
   "execution_count": 1,
   "metadata": {},
   "outputs": [],
   "source": [
    "import pandas as pd\n",
    "import matplotlib.pyplot as plt\n",
    "import numpy as np\n",
    "path = 'nombres.csv'\n",
    "col_names = ['anio','nombre','sexo','n','proporcion']\n",
    "nombre_estudiado = 'Pablo'\n",
    "sexo_persona = 'M'"
   ]
  },
  {
   "cell_type": "code",
   "execution_count": 2,
   "metadata": {},
   "outputs": [],
   "source": [
    "file = pd.read_csv('nombres.csv',encoding='latin-1',on_bad_lines='skip') #con el comando on_bad_lines skip, \n",
    "#de 858782 entradas quedaron 858778"
   ]
  },
  {
   "cell_type": "code",
   "execution_count": 3,
   "metadata": {},
   "outputs": [
    {
     "data": {
      "text/html": [
       "<div>\n",
       "<style scoped>\n",
       "    .dataframe tbody tr th:only-of-type {\n",
       "        vertical-align: middle;\n",
       "    }\n",
       "\n",
       "    .dataframe tbody tr th {\n",
       "        vertical-align: top;\n",
       "    }\n",
       "\n",
       "    .dataframe thead th {\n",
       "        text-align: right;\n",
       "    }\n",
       "</style>\n",
       "<table border=\"1\" class=\"dataframe\">\n",
       "  <thead>\n",
       "    <tr style=\"text-align: right;\">\n",
       "      <th></th>\n",
       "      <th>anio</th>\n",
       "      <th>nombre</th>\n",
       "      <th>sexo</th>\n",
       "      <th>n</th>\n",
       "      <th>proporcion</th>\n",
       "    </tr>\n",
       "  </thead>\n",
       "  <tbody>\n",
       "    <tr>\n",
       "      <th>0</th>\n",
       "      <td>1920</td>\n",
       "      <td>Aaron</td>\n",
       "      <td>M</td>\n",
       "      <td>1</td>\n",
       "      <td>0.000049</td>\n",
       "    </tr>\n",
       "    <tr>\n",
       "      <th>1</th>\n",
       "      <td>1920</td>\n",
       "      <td>Abdolina</td>\n",
       "      <td>F</td>\n",
       "      <td>1</td>\n",
       "      <td>0.000049</td>\n",
       "    </tr>\n",
       "    <tr>\n",
       "      <th>2</th>\n",
       "      <td>1920</td>\n",
       "      <td>Abdon</td>\n",
       "      <td>M</td>\n",
       "      <td>1</td>\n",
       "      <td>0.000049</td>\n",
       "    </tr>\n",
       "    <tr>\n",
       "      <th>3</th>\n",
       "      <td>1920</td>\n",
       "      <td>Abdón</td>\n",
       "      <td>M</td>\n",
       "      <td>2</td>\n",
       "      <td>0.000098</td>\n",
       "    </tr>\n",
       "    <tr>\n",
       "      <th>4</th>\n",
       "      <td>1920</td>\n",
       "      <td>Abel</td>\n",
       "      <td>M</td>\n",
       "      <td>11</td>\n",
       "      <td>0.000540</td>\n",
       "    </tr>\n",
       "  </tbody>\n",
       "</table>\n",
       "</div>"
      ],
      "text/plain": [
       "   anio    nombre sexo   n  proporcion\n",
       "0  1920     Aaron    M   1    0.000049\n",
       "1  1920  Abdolina    F   1    0.000049\n",
       "2  1920     Abdon    M   1    0.000049\n",
       "3  1920     Abdón    M   2    0.000098\n",
       "4  1920      Abel    M  11    0.000540"
      ]
     },
     "execution_count": 3,
     "metadata": {},
     "output_type": "execute_result"
    }
   ],
   "source": [
    "file.head()"
   ]
  },
  {
   "cell_type": "code",
   "execution_count": 4,
   "metadata": {},
   "outputs": [],
   "source": [
    "años = file['anio']\n",
    "años = list(set(años))\n",
    "\n",
    "hombres = []\n",
    "mujeres = []\n",
    "otros = []\n",
    "\n",
    "for año in años:\n",
    "\n",
    "    df = file[(file['anio']==año)]\n",
    "    total_año = df['n'].sum()\n",
    "    total_hombres = df[(df['sexo']=='M')]['n'].sum()\n",
    "    total_otros = df[(df['sexo']=='I')]['n'].sum()\n",
    "    total_mujeres = total_año - total_hombres - total_otros\n",
    "\n",
    "    hombres.append(total_hombres/total_año)\n",
    "    mujeres.append(total_mujeres/total_año)\n",
    "    otros.append(total_otros/total_año)"
   ]
  },
  {
   "cell_type": "code",
   "execution_count": 5,
   "metadata": {},
   "outputs": [],
   "source": [
    "bd = {'anio': años,\n",
    "      'proporcion_hombres':hombres,\n",
    "      'proporcion_mujeres':mujeres,\n",
    "      'proporcion_otros':otros}\n",
    "\n",
    "bd = pd.DataFrame(bd)\n",
    "#bd.to_excel('gender.xlsx')"
   ]
  },
  {
   "cell_type": "code",
   "execution_count": 8,
   "metadata": {},
   "outputs": [
    {
     "data": {
      "text/plain": [
       "<matplotlib.legend.Legend at 0x18f00261fd0>"
      ]
     },
     "execution_count": 8,
     "metadata": {},
     "output_type": "execute_result"
    },
    {
     "data": {
      "image/png": "[encoded data removed]",
      "text/plain": [
       "<Figure size 432x288 with 1 Axes>"
      ]
     },
     "metadata": {
      "needs_background": "light"
     },
     "output_type": "display_data"
    }
   ],
   "source": [
    "fig, ax = plt.subplots()\n",
    "\n",
    "x = bd['anio'].iloc[:25]\n",
    "\n",
    "h = bd['proporcion_hombres'].iloc[:25]\n",
    "m = bd['proporcion_mujeres'].iloc[:25]\n",
    "\n",
    "# First plot the 'Male' bars for every day.\n",
    "ax.bar(x, h, label='Hombres')\n",
    "# Then plot the 'Female' bars on top, starting at the top of the 'Male'\n",
    "# bars.\n",
    "ax.bar(x, m, bottom=h,\n",
    "       label='Mujeres')\n",
    "\n",
    "\n",
    "ax.set_title('Distribución de género por año')\n",
    "\n",
    "plt.xlabel('año')\n",
    "plt.ylabel('proporcion')\n",
    "ax.legend()\n"
   ]
  },
  {
   "cell_type": "code",
   "execution_count": 50,
   "metadata": {},
   "outputs": [
    {
     "data": {
      "text/plain": [
       "<matplotlib.legend.Legend at 0x18f08e86c10>"
      ]
     },
     "execution_count": 50,
     "metadata": {},
     "output_type": "execute_result"
    },
    {
     "data": {
      "image/png": "[encoded data removed]",
      "text/plain": [
       "<Figure size 432x288 with 1 Axes>"
      ]
     },
     "metadata": {
      "needs_background": "light"
     },
     "output_type": "display_data"
    }
   ],
   "source": [
    "bd_new = bd.iloc[81:,:3]\n",
    "bd_new['proporcion_hombres'] = 100*bd_new['proporcion_hombres']\n",
    "bd_new['proporcion_mujeres'] = 100*bd_new['proporcion_mujeres']\n",
    "\n",
    "bd_new = bd_new.set_index('anio')\n",
    "\n",
    "#bd_new.index = bd_new.astype('object')\n",
    "\n",
    "fig, ax = plt.subplots()\n",
    "\n",
    "colors = ['#24b1d1', '#ae24d1']\n",
    "bottom = np.zeros(len(bd_new))\n",
    "\n",
    "for i, col in enumerate(bd_new.columns):\n",
    "  ax.bar(\n",
    "      bd_new.index, bd_new[col], bottom=bottom, label=col, color=colors[i],width = 0.9),\n",
    "  bottom += np.array(bd_new[col])\n",
    "\n",
    "\n",
    "\n",
    "# Let's put the annotations inside the bars themselves by using a\n",
    "# negative offset.\n",
    "y_offset = -25\n",
    "# For each patch (basically each rectangle within the bar), add a label.\n",
    "for bar in ax.patches:\n",
    "  ax.text(\n",
    "      # Put the text in the middle of each bar. get_x returns the start\n",
    "      # so we add half the width to get to the middle.\n",
    "      bar.get_x() + bar.get_width() / 2,\n",
    "      # Vertically, add the height of the bar to the start of the bar,\n",
    "      # along with the offset.\n",
    "      bar.get_height() + bar.get_y() + y_offset,\n",
    "      # This is actual value we'll show.\n",
    "      #round(bar.get_height(),2),\n",
    "      round(bar.get_height(),1),\n",
    "      # Center the labels and style them a bit.\n",
    "      ha='center',\n",
    "      color='black',\n",
    "      \n",
    "      size=6\n",
    "  )\n",
    "plt.xlabel('Año')\n",
    "plt.ylabel('Proporción (%)')\n",
    "ax.set_title('Distribución de género por año')\n",
    "ax.legend()\n"
   ]
  },
  {
   "cell_type": "code",
   "execution_count": 55,
   "metadata": {},
   "outputs": [
    {
     "data": {
      "text/plain": [
       "[0.49375223076201147, 0.49759544429304525]"
      ]
     },
     "execution_count": 55,
     "metadata": {},
     "output_type": "execute_result"
    }
   ],
   "source": [
    "IC_hombres = [bd['proporcion_hombres'].mean() - 1.96*bd['proporcion_hombres'].std()/(np.sqrt(len(bd['proporcion_hombres']))),\n",
    "             bd['proporcion_hombres'].mean() + 1.96*bd['proporcion_hombres'].std()/(np.sqrt(len(bd['proporcion_hombres'])))]\n",
    "\n",
    "IC_mujeres = [bd['proporcion_mujeres'].mean() - 1.96*bd['proporcion_mujeres'].std()/(np.sqrt(len(bd['proporcion_mujeres']))),\n",
    "              bd['proporcion_mujeres'].mean() + 1.96*bd['proporcion_mujeres'].std()/(np.sqrt(len(bd['proporcion_mujeres'])))]\n",
    "\n",
    "IC_mujeres"
   ]
  }
 ],
 "metadata": {
  "kernelspec": {
   "display_name": "Python 3.9.5 64-bit",
   "language": "python",
   "name": "python3"
  },
  "language_info": {
   "codemirror_mode": {
    "name": "ipython",
    "version": 3
   },
   "file_extension": ".py",
   "mimetype": "text/x-python",
   "name": "python",
   "nbconvert_exporter": "python",
   "pygments_lexer": "ipython3",
   "version": "3.9.5"
  },
  "orig_nbformat": 4,
  "vscode": {
   "interpreter": {
    "hash": "cbb9f492830e4cd186c0e5c794844362fe689218f9755ab9bd4e820e218d64bb"
   }
  }
 },
 "nbformat": 4,
 "nbformat_minor": 2
}
